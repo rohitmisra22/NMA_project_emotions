{
 "cells": [
  {
   "cell_type": "code",
   "execution_count": 1,
   "id": "089ec448",
   "metadata": {
    "_cell_guid": "b1076dfc-b9ad-4769-8c92-a6c4dae69d19",
    "_uuid": "8f2839f25d086af736a60e9eeb907d3b93b6e0e5",
    "execution": {
     "iopub.execute_input": "2022-07-29T13:51:11.181466Z",
     "iopub.status.busy": "2022-07-29T13:51:11.180353Z",
     "iopub.status.idle": "2022-07-29T13:51:11.187698Z",
     "shell.execute_reply": "2022-07-29T13:51:11.186555Z"
    },
    "papermill": {
     "duration": 0.020219,
     "end_time": "2022-07-29T13:51:11.189899",
     "exception": false,
     "start_time": "2022-07-29T13:51:11.169680",
     "status": "completed"
    },
    "tags": []
   },
   "outputs": [],
   "source": [
    "# INVESTIGATING LATENT FUNCTONAL NETWORKS IN THE BRAIN DURING EMOTION PERCEPTION\n",
    "\n",
    "# Project Completed as a part of NeuroMatch Academy 2022 - Computational Neuroscience course\n",
    "\n",
    "\n",
    "# Pod Name: Cachupa\n",
    "#  Members: \n",
    "# - Rohit Misra \n",
    "# - Iosif Lytras\n",
    "# - Iraj Ahangari \n",
    "# - Gürkan Sinan Yaşar\n",
    "# - Dong Chenjie \n",
    "\n",
    "#  Teaching Assistants: \n",
    "# - Bindu Kumari\n",
    "# - Tanya Upadhyay\n",
    "\n",
    "#  Mentors:\n",
    "# - Maria Eckstein\n",
    "# - Margarita Zachariou\n",
    "\n",
    "\n"
   ]
  },
  {
   "cell_type": "markdown",
   "id": "6131802b",
   "metadata": {
    "papermill": {
     "duration": 0.007366,
     "end_time": "2022-07-29T13:51:11.205237",
     "exception": false,
     "start_time": "2022-07-29T13:51:11.197871",
     "status": "completed"
    },
    "tags": []
   },
   "source": [
    "**SET-UP**"
   ]
  },
  {
   "cell_type": "code",
   "execution_count": 2,
   "id": "33c20891",
   "metadata": {
    "execution": {
     "iopub.execute_input": "2022-07-29T13:51:11.222248Z",
     "iopub.status.busy": "2022-07-29T13:51:11.221859Z",
     "iopub.status.idle": "2022-07-29T13:51:13.537035Z",
     "shell.execute_reply": "2022-07-29T13:51:13.535844Z"
    },
    "papermill": {
     "duration": 2.326902,
     "end_time": "2022-07-29T13:51:13.539766",
     "exception": false,
     "start_time": "2022-07-29T13:51:11.212864",
     "status": "completed"
    },
    "tags": []
   },
   "outputs": [],
   "source": [
    "from distutils import filelist\n",
    "import numpy as np\n",
    "import nibabel\n",
    "from nilearn import datasets\n",
    "# from nilearn.maskers import NiftiMapsMasker\n",
    "from nilearn.maskers import NiftiLabelsMasker\n",
    "from nilearn.connectome import ConnectivityMeasure, group_sparse_covariance\n",
    "import scipy.io\n",
    "from nilearn import plotting\n",
    "import matplotlib.pyplot as plt\n",
    "import os\n",
    "import networkx as nx\n",
    "from networkx.algorithms import community\n",
    "import pandas as pd\n",
    "from sklearn.metrics import silhouette_score\n",
    "from sklearn.cluster import KMeans\n",
    "import community as community_louvain\n",
    "from sklearn.decomposition import PCA"
   ]
  },
  {
   "cell_type": "markdown",
   "id": "1c11936c",
   "metadata": {
    "papermill": {
     "duration": 0.007623,
     "end_time": "2022-07-29T13:51:13.555401",
     "exception": false,
     "start_time": "2022-07-29T13:51:13.547778",
     "status": "completed"
    },
    "tags": []
   },
   "source": [
    "**FUNCTION DEFINITONS**"
   ]
  },
  {
   "cell_type": "markdown",
   "id": "4953d4ad",
   "metadata": {
    "papermill": {
     "duration": 0.007508,
     "end_time": "2022-07-29T13:51:13.571688",
     "exception": false,
     "start_time": "2022-07-29T13:51:13.564180",
     "status": "completed"
    },
    "tags": []
   },
   "source": [
    "Functions to return file path given subject and run number"
   ]
  },
  {
   "cell_type": "code",
   "execution_count": 3,
   "id": "de207ba1",
   "metadata": {
    "execution": {
     "iopub.execute_input": "2022-07-29T13:51:13.590008Z",
     "iopub.status.busy": "2022-07-29T13:51:13.589040Z",
     "iopub.status.idle": "2022-07-29T13:51:13.595824Z",
     "shell.execute_reply": "2022-07-29T13:51:13.594666Z"
    },
    "papermill": {
     "duration": 0.019055,
     "end_time": "2022-07-29T13:51:13.598613",
     "exception": false,
     "start_time": "2022-07-29T13:51:13.579558",
     "status": "completed"
    },
    "tags": []
   },
   "outputs": [],
   "source": [
    "# function to return file destination for given subject number and run  number\n",
    "def fmri_filename(subject_number, run_number):\n",
    "    filename_prefix = \"/kaggle/input/fmri-dataset-for-emotion-recognition/\"\n",
    "    filename_suffix = \"Sub-0\" + str(subject_number) + \"/wrsub-0\" + str(subject_number) + \"_task-emotionalfaces_run-\" + str(run_number) + \"_bold.nii\"\n",
    "    return filename_prefix + filename_suffix\n",
    "    \n",
    "def get_events_filename(run_number):\n",
    "    filename = \"/kaggle/input/events/events/task-emotionalfaces_run-\" + str(run_number) + \"_events.tsv\"\n",
    "    return filename"
   ]
  },
  {
   "cell_type": "markdown",
   "id": "68dfd984",
   "metadata": {
    "papermill": {
     "duration": 0.007499,
     "end_time": "2022-07-29T13:51:13.613992",
     "exception": false,
     "start_time": "2022-07-29T13:51:13.606493",
     "status": "completed"
    },
    "tags": []
   },
   "source": [
    "Function to read fMRI file and generate parcellated time series using given atlas"
   ]
  },
  {
   "cell_type": "code",
   "execution_count": 4,
   "id": "5af443a5",
   "metadata": {
    "execution": {
     "iopub.execute_input": "2022-07-29T13:51:13.631296Z",
     "iopub.status.busy": "2022-07-29T13:51:13.630898Z",
     "iopub.status.idle": "2022-07-29T13:51:13.637065Z",
     "shell.execute_reply": "2022-07-29T13:51:13.635815Z"
    },
    "papermill": {
     "duration": 0.017819,
     "end_time": "2022-07-29T13:51:13.639539",
     "exception": false,
     "start_time": "2022-07-29T13:51:13.621720",
     "status": "completed"
    },
    "tags": []
   },
   "outputs": [],
   "source": [
    "def getParcellations(fmri_filename, atlas):\n",
    "    # Loading atlas image stored in 'maps'\n",
    "    atlas_filename = atlas.maps #atlas['maps']\n",
    "    # Loading atlas data stored in 'labels'\n",
    "    labels = atlas.labels #atlas['labels']\n",
    "    masker = NiftiLabelsMasker(labels_img=atlas_filename, standardize=True,\n",
    "                            memory='nilearn_cache', verbose=0)\n",
    "    # masker.fit(data)\n",
    "    time_series = masker.fit_transform(fmri_filename)\n",
    "    return [time_series,labels]"
   ]
  },
  {
   "cell_type": "markdown",
   "id": "60c4f897",
   "metadata": {
    "papermill": {
     "duration": 0.007662,
     "end_time": "2022-07-29T13:51:13.655410",
     "exception": false,
     "start_time": "2022-07-29T13:51:13.647748",
     "status": "completed"
    },
    "tags": []
   },
   "source": [
    "Functions to segment the ROI time series based on stimulus and generate connectivity matrices for each segment"
   ]
  },
  {
   "cell_type": "code",
   "execution_count": 5,
   "id": "3bd0a485",
   "metadata": {
    "execution": {
     "iopub.execute_input": "2022-07-29T13:51:13.673055Z",
     "iopub.status.busy": "2022-07-29T13:51:13.672638Z",
     "iopub.status.idle": "2022-07-29T13:51:13.684353Z",
     "shell.execute_reply": "2022-07-29T13:51:13.683210Z"
    },
    "papermill": {
     "duration": 0.02346,
     "end_time": "2022-07-29T13:51:13.686804",
     "exception": false,
     "start_time": "2022-07-29T13:51:13.663344",
     "status": "completed"
    },
    "tags": []
   },
   "outputs": [],
   "source": [
    "def get_correlation_matrices(subject_number, run_number, atlas):\n",
    "    bold_filename = fmri_filename(subject_number, run_number)\n",
    "    events_filename = get_events_filename(run_number)\n",
    "    [ROI_time_series, ROI_labels] = getParcellations(bold_filename, atlas)\n",
    "    blocks_time_series, stimulus_labels = segment_time_series(ROI_time_series, events_filename)\n",
    "    \n",
    "    correlation_matrices = np.ndarray((blocks_time_series[0].shape[1], blocks_time_series[0].shape[1], len(stimulus_labels)))\n",
    "    correlation_measure = ConnectivityMeasure(kind='correlation')\n",
    "    for i, time_series in enumerate(blocks_time_series):\n",
    "        block_corr_matrix = correlation_measure.fit_transform([time_series])[0]\n",
    "        correlation_matrices[:,:,i] = block_corr_matrix\n",
    "    return [correlation_matrices, stimulus_labels]\n",
    "    \n",
    "def segment_time_series(time_series, events_filename):\n",
    "    blocks_time_series = []\n",
    "    blocks_labels = []\n",
    "\n",
    "    events_df = pd.read_csv(events_filename,sep=\"\\t\")\n",
    "    events_list = events_df.iloc[:,2].tolist()\n",
    "    stim_labels_list = ['happy', 'sad', 'angry', 'neutral']\n",
    "    for stimulus in stim_labels_list:\n",
    "        onset_instances = [i for i,label in enumerate(events_list) if label == stimulus]\n",
    "        for onset_index in onset_instances:\n",
    "            start = events_df.iloc[onset_index,0]//2\n",
    "            stop = start + (events_df.iloc[onset_index,1]//2) - 1\n",
    "            blocks_time_series.append(time_series[start:stop,:])\n",
    "            blocks_labels.append(stimulus)\n",
    "    return [blocks_time_series, blocks_labels]"
   ]
  },
  {
   "cell_type": "markdown",
   "id": "ccc99060",
   "metadata": {
    "papermill": {
     "duration": 0.007831,
     "end_time": "2022-07-29T13:51:13.702630",
     "exception": false,
     "start_time": "2022-07-29T13:51:13.694799",
     "status": "completed"
    },
    "tags": []
   },
   "source": [
    "Functions to Vectorize the connectivity matrices, and convert vectors to connectivity matrices"
   ]
  },
  {
   "cell_type": "code",
   "execution_count": 6,
   "id": "d51d3b5b",
   "metadata": {
    "execution": {
     "iopub.execute_input": "2022-07-29T13:51:13.722167Z",
     "iopub.status.busy": "2022-07-29T13:51:13.721454Z",
     "iopub.status.idle": "2022-07-29T13:51:13.728930Z",
     "shell.execute_reply": "2022-07-29T13:51:13.728174Z"
    },
    "papermill": {
     "duration": 0.019558,
     "end_time": "2022-07-29T13:51:13.731384",
     "exception": false,
     "start_time": "2022-07-29T13:51:13.711826",
     "status": "completed"
    },
    "tags": []
   },
   "outputs": [],
   "source": [
    "def corr_matrices_to_vectors(correlation_matrices):\n",
    "    n = correlation_matrices.shape[0]\n",
    "    p = int(n * (n - 1) / 2)\n",
    "    vectors = np.ndarray((correlation_matrices.shape[2],p))\n",
    "    start = 0\n",
    "    for iter in range(n):\n",
    "        row = correlation_matrices[iter, iter+1:, :].T\n",
    "        end = start + row.shape[1]\n",
    "        vectors[:,start:end] = row\n",
    "        start = end\n",
    "    return vectors\n",
    "\n",
    "\n",
    "def vector_to_matrix(vector, N):\n",
    "    matrix = np.zeros((N,N))\n",
    "    start = 0\n",
    "    for iter in range(N-1):\n",
    "        end = start + N - 1 - iter\n",
    "        snippet = vector[start:end]\n",
    "        matrix[iter, iter+1:] = snippet\n",
    "        matrix[iter+1:, iter] = snippet.T\n",
    "        start = end\n",
    "    return matrix\n"
   ]
  },
  {
   "cell_type": "markdown",
   "id": "45b77455",
   "metadata": {
    "papermill": {
     "duration": 0.007639,
     "end_time": "2022-07-29T13:51:13.746868",
     "exception": false,
     "start_time": "2022-07-29T13:51:13.739229",
     "status": "completed"
    },
    "tags": []
   },
   "source": [
    "Functions to cluster data using k-means algorithm for different k values and compare them based on silhouette score"
   ]
  },
  {
   "cell_type": "code",
   "execution_count": 7,
   "id": "c45f7b8d",
   "metadata": {
    "execution": {
     "iopub.execute_input": "2022-07-29T13:51:13.765145Z",
     "iopub.status.busy": "2022-07-29T13:51:13.764465Z",
     "iopub.status.idle": "2022-07-29T13:51:13.771565Z",
     "shell.execute_reply": "2022-07-29T13:51:13.770691Z"
    },
    "papermill": {
     "duration": 0.018722,
     "end_time": "2022-07-29T13:51:13.773728",
     "exception": false,
     "start_time": "2022-07-29T13:51:13.755006",
     "status": "completed"
    },
    "tags": []
   },
   "outputs": [],
   "source": [
    "# data is a matrix of size \"number of blocks x (n^2 - n)/2\"\n",
    "\n",
    "def k_means_score(data, k):\n",
    "    km = KMeans(n_clusters=k, random_state=37)\n",
    "    km.fit(data)\n",
    "    pred = km.predict(data)\n",
    "    return [pred, silhouette_score(data, pred)]\n",
    "\n",
    "def compare_k_means(data, k_min, k_max):\n",
    "    scores = []\n",
    "    k_values = np.arange(k_min, k_max+1)\n",
    "    for k in range(k_min, k_max + 1):\n",
    "        _, score = k_means_score(data, k)\n",
    "        scores.append(score)\n",
    "    return [k_values, scores]\n",
    "\n",
    "def optimal_k_means(data, k):\n",
    "    km = KMeans(n_clusters=k, random_state=37)\n",
    "    km.fit(data)\n",
    "    pred = km.predict(data)\n",
    "    centroids = km.cluster_centers_\n",
    "    return [pred, centroids]\n",
    "\n"
   ]
  },
  {
   "cell_type": "markdown",
   "id": "eab28e6f",
   "metadata": {
    "papermill": {
     "duration": 0.007591,
     "end_time": "2022-07-29T13:51:13.789084",
     "exception": false,
     "start_time": "2022-07-29T13:51:13.781493",
     "status": "completed"
    },
    "tags": []
   },
   "source": [
    "Functions to perform graph theoretic analysis of matrices"
   ]
  },
  {
   "cell_type": "code",
   "execution_count": 8,
   "id": "8279a0c3",
   "metadata": {
    "execution": {
     "iopub.execute_input": "2022-07-29T13:51:13.806826Z",
     "iopub.status.busy": "2022-07-29T13:51:13.806133Z",
     "iopub.status.idle": "2022-07-29T13:51:13.811773Z",
     "shell.execute_reply": "2022-07-29T13:51:13.810953Z"
    },
    "papermill": {
     "duration": 0.017182,
     "end_time": "2022-07-29T13:51:13.814068",
     "exception": false,
     "start_time": "2022-07-29T13:51:13.796886",
     "status": "completed"
    },
    "tags": []
   },
   "outputs": [],
   "source": [
    "def corr_to_adj(M):\n",
    "    threshold = 0.3\n",
    "    M[np.abs(M) < threshold] = 0\n",
    "    return M\n",
    "\n",
    "def graph_analysis(A):\n",
    "    G = nx.from_numpy_array(A)\n",
    "    # print(G)\n",
    "    pos = nx.shell_layout(G)\n",
    "    # nx.draw(G, pos = pos)\n",
    "    # plt.show()\n",
    "    global_efficiency = nx.global_efficiency(G)\n",
    "    partitions = community_louvain.best_partition(G)\n",
    "    # print(partitions)\n",
    "    modularity = community_louvain.modularity(partitions, G)\n",
    "    return [global_efficiency, modularity]\n",
    "\n"
   ]
  },
  {
   "cell_type": "markdown",
   "id": "693be85f",
   "metadata": {
    "papermill": {
     "duration": 0.007556,
     "end_time": "2022-07-29T13:51:13.829449",
     "exception": false,
     "start_time": "2022-07-29T13:51:13.821893",
     "status": "completed"
    },
    "tags": []
   },
   "source": [
    "Functions to plot the connectivity matrix and the connectoome given a matrix"
   ]
  },
  {
   "cell_type": "code",
   "execution_count": 9,
   "id": "de728b6f",
   "metadata": {
    "execution": {
     "iopub.execute_input": "2022-07-29T13:51:13.847028Z",
     "iopub.status.busy": "2022-07-29T13:51:13.846308Z",
     "iopub.status.idle": "2022-07-29T13:51:13.854122Z",
     "shell.execute_reply": "2022-07-29T13:51:13.853312Z"
    },
    "papermill": {
     "duration": 0.019281,
     "end_time": "2022-07-29T13:51:13.856430",
     "exception": false,
     "start_time": "2022-07-29T13:51:13.837149",
     "status": "completed"
    },
    "tags": []
   },
   "outputs": [],
   "source": [
    "def get_HO_coords(atlas):\n",
    "    atlas_img = atlas['maps']\n",
    "    # all ROIs except the background\n",
    "    values = np.unique(atlas_img.get_data())[1:] \n",
    "    # iterate over Harvard-Oxford ROIs\n",
    "    coords = []\n",
    "    for v in values:\n",
    "        data = np.zeros_like(atlas_img.get_data())\n",
    "        data[atlas_img.get_data() == v] = 1\n",
    "        xyz = plotting.find_xyz_cut_coords(nibabel.Nifti1Image(data, atlas_img.affine))\n",
    "        coords.append(xyz)\n",
    "    return coords\n",
    "\n",
    "def plotCorrelationMatrix(correlation_matrix,atlas):\n",
    "    labels = atlas.labels[1:]\n",
    "    np.fill_diagonal(correlation_matrix, 0)\n",
    "    plotting.plot_matrix(correlation_matrix,  labels = labels, colorbar=True,\n",
    "                     vmax=1, vmin=0.3)\n",
    "#     coords = atlas.region_coords\n",
    "    \n",
    "    # only for harvard oxford atlas \n",
    "    coords = get_HO_coords(atlas)\n",
    "    plotting.plot_connectome(correlation_matrix, coords,\n",
    "                         edge_threshold=\"95%\", colorbar=True)\n",
    "\n",
    "    plotting.show()\n",
    "    view = plotting.view_connectome(correlation_matrix, coords, edge_threshold='90%')\n",
    "#     view.open_in_browser()"
   ]
  },
  {
   "cell_type": "markdown",
   "id": "4df9836d",
   "metadata": {
    "papermill": {
     "duration": 0.008071,
     "end_time": "2022-07-29T13:51:13.872425",
     "exception": false,
     "start_time": "2022-07-29T13:51:13.864354",
     "status": "completed"
    },
    "tags": []
   },
   "source": [
    "Function to perform graph analysis on given matrix"
   ]
  },
  {
   "cell_type": "code",
   "execution_count": 10,
   "id": "f51387d1",
   "metadata": {
    "execution": {
     "iopub.execute_input": "2022-07-29T13:51:13.889817Z",
     "iopub.status.busy": "2022-07-29T13:51:13.889451Z",
     "iopub.status.idle": "2022-07-29T13:51:13.894742Z",
     "shell.execute_reply": "2022-07-29T13:51:13.893817Z"
    },
    "papermill": {
     "duration": 0.016412,
     "end_time": "2022-07-29T13:51:13.896704",
     "exception": false,
     "start_time": "2022-07-29T13:51:13.880292",
     "status": "completed"
    },
    "tags": []
   },
   "outputs": [],
   "source": [
    "def rep_network_analysis(matrix):\n",
    "#     plotCorrelationMatrix(matrix, atlas)\n",
    "    adj_matrix = corr_to_adj(matrix)\n",
    "    global_efficiency, modularity = graph_analysis(adj_matrix)\n",
    "    print(\"Graph Global Efficieny = \" + str(global_efficiency))\n",
    "    print(\"Graph Modularity= \" + str(modularity))\n",
    "    return [global_efficiency, modularity]\n",
    "    "
   ]
  },
  {
   "cell_type": "markdown",
   "id": "61a352d4",
   "metadata": {
    "papermill": {
     "duration": 0.007467,
     "end_time": "2022-07-29T13:51:13.911998",
     "exception": false,
     "start_time": "2022-07-29T13:51:13.904531",
     "status": "completed"
    },
    "tags": []
   },
   "source": [
    "**MAIN**"
   ]
  },
  {
   "cell_type": "markdown",
   "id": "d743cd6a",
   "metadata": {
    "papermill": {
     "duration": 0.007921,
     "end_time": "2022-07-29T13:51:13.927877",
     "exception": false,
     "start_time": "2022-07-29T13:51:13.919956",
     "status": "completed"
    },
    "tags": []
   },
   "source": [
    "1. Iterate over all fMRI files and generate correlation matrices for all blocks in each run. "
   ]
  },
  {
   "cell_type": "code",
   "execution_count": 11,
   "id": "807ed087",
   "metadata": {
    "execution": {
     "iopub.execute_input": "2022-07-29T13:51:13.945353Z",
     "iopub.status.busy": "2022-07-29T13:51:13.944704Z",
     "iopub.status.idle": "2022-07-29T13:51:13.948580Z",
     "shell.execute_reply": "2022-07-29T13:51:13.947870Z"
    },
    "papermill": {
     "duration": 0.015031,
     "end_time": "2022-07-29T13:51:13.950624",
     "exception": false,
     "start_time": "2022-07-29T13:51:13.935593",
     "status": "completed"
    },
    "tags": []
   },
   "outputs": [],
   "source": [
    "# total_subjects = 5\n",
    "# total_runs_per_subject = 5\n",
    "\n",
    "# # atlas = datasets.fetch_atlas_aal(version='SPM12', data_dir=None, url=None, resume=True, verbose=1)\n",
    "# atlas = datasets.fetch_atlas_harvard_oxford('cort-maxprob-thr25-2mm')\n",
    "# n = len(atlas.labels)\n",
    "# all_correlation_matrices = np.ndarray((n-1,n-1))\n",
    "# all_stimulus_labels = []\n",
    "# for subject_num in range(1,total_subjects + 1):\n",
    "#     for run_num in range(1,total_runs_per_subject + 1):\n",
    "#         [runwise_corr_matrices, stimulus_labels] = get_correlation_matrices(subject_num, run_num, atlas)\n",
    "#         all_correlation_matrices = np.dstack((all_correlation_matrices, runwise_corr_matrices))\n",
    "#         all_stimulus_labels.extend(stimulus_labels)\n",
    "        \n",
    "# all_correlation_matrices = all_correlation_matrices[:,:,1:]\n",
    "# print(all_correlation_matrices.shape)\n"
   ]
  },
  {
   "cell_type": "markdown",
   "id": "5345ed0a",
   "metadata": {
    "papermill": {
     "duration": 0.007543,
     "end_time": "2022-07-29T13:51:13.966001",
     "exception": false,
     "start_time": "2022-07-29T13:51:13.958458",
     "status": "completed"
    },
    "tags": []
   },
   "source": [
    "2. Vectorize the connectivity matrices"
   ]
  },
  {
   "cell_type": "code",
   "execution_count": 12,
   "id": "1a543084",
   "metadata": {
    "execution": {
     "iopub.execute_input": "2022-07-29T13:51:13.983448Z",
     "iopub.status.busy": "2022-07-29T13:51:13.983033Z",
     "iopub.status.idle": "2022-07-29T13:51:13.987291Z",
     "shell.execute_reply": "2022-07-29T13:51:13.986210Z"
    },
    "papermill": {
     "duration": 0.015985,
     "end_time": "2022-07-29T13:51:13.989751",
     "exception": false,
     "start_time": "2022-07-29T13:51:13.973766",
     "status": "completed"
    },
    "tags": []
   },
   "outputs": [],
   "source": [
    "# vectorized_data = corr_matrices_to_vectors(all_correlation_matrices)\n",
    "# print(vectorized_data.shape)"
   ]
  },
  {
   "cell_type": "markdown",
   "id": "5e480022",
   "metadata": {
    "papermill": {
     "duration": 0.007514,
     "end_time": "2022-07-29T13:51:14.005003",
     "exception": false,
     "start_time": "2022-07-29T13:51:13.997489",
     "status": "completed"
    },
    "tags": []
   },
   "source": [
    "3. Perform PCA to reduce dimensionality of the vectors"
   ]
  },
  {
   "cell_type": "code",
   "execution_count": 13,
   "id": "bfd3fec2",
   "metadata": {
    "execution": {
     "iopub.execute_input": "2022-07-29T13:51:14.022691Z",
     "iopub.status.busy": "2022-07-29T13:51:14.021931Z",
     "iopub.status.idle": "2022-07-29T13:51:14.026412Z",
     "shell.execute_reply": "2022-07-29T13:51:14.025620Z"
    },
    "papermill": {
     "duration": 0.015799,
     "end_time": "2022-07-29T13:51:14.028549",
     "exception": false,
     "start_time": "2022-07-29T13:51:14.012750",
     "status": "completed"
    },
    "tags": []
   },
   "outputs": [],
   "source": [
    "# pca =  PCA(n_components= 100)\n",
    "# pca.fit(vectorized_data)\n",
    "# data = pca.transform(vectorized_data)"
   ]
  },
  {
   "cell_type": "markdown",
   "id": "fe5b61d1",
   "metadata": {
    "papermill": {
     "duration": 0.007505,
     "end_time": "2022-07-29T13:51:14.043706",
     "exception": false,
     "start_time": "2022-07-29T13:51:14.036201",
     "status": "completed"
    },
    "tags": []
   },
   "source": [
    "4. Cluster the data using k-means clustering for a range of k-values"
   ]
  },
  {
   "cell_type": "code",
   "execution_count": 14,
   "id": "8606294f",
   "metadata": {
    "execution": {
     "iopub.execute_input": "2022-07-29T13:51:14.061294Z",
     "iopub.status.busy": "2022-07-29T13:51:14.060551Z",
     "iopub.status.idle": "2022-07-29T13:51:14.065409Z",
     "shell.execute_reply": "2022-07-29T13:51:14.064557Z"
    },
    "papermill": {
     "duration": 0.016481,
     "end_time": "2022-07-29T13:51:14.067775",
     "exception": false,
     "start_time": "2022-07-29T13:51:14.051294",
     "status": "completed"
    },
    "tags": []
   },
   "outputs": [],
   "source": [
    "# k_values, scores = compare_k_means(data, 2, 15)\n",
    "\n",
    "# plt.plot(k_values, scores)\n",
    "# plt.xlabel('k value')\n",
    "# plt.ylabel('Silhouette score')\n",
    "# plt.show()\n",
    "\n",
    "# # pick max"
   ]
  },
  {
   "cell_type": "markdown",
   "id": "8533f2b1",
   "metadata": {
    "papermill": {
     "duration": 0.007666,
     "end_time": "2022-07-29T13:51:14.083473",
     "exception": false,
     "start_time": "2022-07-29T13:51:14.075807",
     "status": "completed"
    },
    "tags": []
   },
   "source": [
    "5. Find the k that maximises silhouette score"
   ]
  },
  {
   "cell_type": "code",
   "execution_count": 15,
   "id": "31045d7b",
   "metadata": {
    "execution": {
     "iopub.execute_input": "2022-07-29T13:51:14.101189Z",
     "iopub.status.busy": "2022-07-29T13:51:14.100446Z",
     "iopub.status.idle": "2022-07-29T13:51:14.105104Z",
     "shell.execute_reply": "2022-07-29T13:51:14.104271Z"
    },
    "papermill": {
     "duration": 0.016145,
     "end_time": "2022-07-29T13:51:14.107385",
     "exception": false,
     "start_time": "2022-07-29T13:51:14.091240",
     "status": "completed"
    },
    "tags": []
   },
   "outputs": [],
   "source": [
    "# k_opt = k_values[np.argmax(scores)]\n",
    "# print(k_opt)"
   ]
  },
  {
   "cell_type": "markdown",
   "id": "df8f1124",
   "metadata": {
    "papermill": {
     "duration": 0.00754,
     "end_time": "2022-07-29T13:51:14.122923",
     "exception": false,
     "start_time": "2022-07-29T13:51:14.115383",
     "status": "completed"
    },
    "tags": []
   },
   "source": [
    "6. Convert cluster centroids to connectivity matrices to get representative networks "
   ]
  },
  {
   "cell_type": "code",
   "execution_count": 16,
   "id": "777f3ea0",
   "metadata": {
    "execution": {
     "iopub.execute_input": "2022-07-29T13:51:14.141149Z",
     "iopub.status.busy": "2022-07-29T13:51:14.140429Z",
     "iopub.status.idle": "2022-07-29T13:51:14.145106Z",
     "shell.execute_reply": "2022-07-29T13:51:14.144307Z"
    },
    "papermill": {
     "duration": 0.016178,
     "end_time": "2022-07-29T13:51:14.147131",
     "exception": false,
     "start_time": "2022-07-29T13:51:14.130953",
     "status": "completed"
    },
    "tags": []
   },
   "outputs": [],
   "source": [
    "# cluster_labels, centroids_pca = optimal_k_means(data, k_opt)\n",
    "# centroids = pca.inverse_transform(centroids_pca)\n",
    "# N = len(atlas.labels[1:])\n",
    "# rep_networks = np.ndarray((N,N,centroids.shape[0]))\n",
    "# for index in range(centroids.shape[0]):\n",
    "#     rep_networks[:,:,index] = vector_to_matrix(centroids[index,:], N)\n",
    "    \n",
    "# print(rep_networks.shape)"
   ]
  },
  {
   "cell_type": "markdown",
   "id": "bdf86731",
   "metadata": {
    "papermill": {
     "duration": 0.007545,
     "end_time": "2022-07-29T13:51:14.162346",
     "exception": false,
     "start_time": "2022-07-29T13:51:14.154801",
     "status": "completed"
    },
    "tags": []
   },
   "source": [
    "7. Generate graph theoretic metrics for all represenatative networks"
   ]
  },
  {
   "cell_type": "code",
   "execution_count": 17,
   "id": "dff47441",
   "metadata": {
    "execution": {
     "iopub.execute_input": "2022-07-29T13:51:14.179933Z",
     "iopub.status.busy": "2022-07-29T13:51:14.179150Z",
     "iopub.status.idle": "2022-07-29T13:51:14.183815Z",
     "shell.execute_reply": "2022-07-29T13:51:14.182991Z"
    },
    "papermill": {
     "duration": 0.015884,
     "end_time": "2022-07-29T13:51:14.185908",
     "exception": false,
     "start_time": "2022-07-29T13:51:14.170024",
     "status": "completed"
    },
    "tags": []
   },
   "outputs": [],
   "source": [
    "# global_efficiency_list = []\n",
    "# modularity_list = []\n",
    "# for index in range(rep_networks.shape[2]):\n",
    "#     eff, mod = rep_network_analysis(rep_networks[:,:,index])\n",
    "#     global_efficiency_list.append(eff)\n",
    "#     modularity_list.append(mod)\n",
    "    \n"
   ]
  },
  {
   "cell_type": "markdown",
   "id": "2bd56fbd",
   "metadata": {
    "papermill": {
     "duration": 0.007379,
     "end_time": "2022-07-29T13:51:14.200865",
     "exception": false,
     "start_time": "2022-07-29T13:51:14.193486",
     "status": "completed"
    },
    "tags": []
   },
   "source": [
    "8. (A) Compare graph metrics using bar graphs"
   ]
  },
  {
   "cell_type": "code",
   "execution_count": 18,
   "id": "72205431",
   "metadata": {
    "execution": {
     "iopub.execute_input": "2022-07-29T13:51:14.218545Z",
     "iopub.status.busy": "2022-07-29T13:51:14.217765Z",
     "iopub.status.idle": "2022-07-29T13:51:14.222410Z",
     "shell.execute_reply": "2022-07-29T13:51:14.221637Z"
    },
    "papermill": {
     "duration": 0.015958,
     "end_time": "2022-07-29T13:51:14.224561",
     "exception": false,
     "start_time": "2022-07-29T13:51:14.208603",
     "status": "completed"
    },
    "tags": []
   },
   "outputs": [],
   "source": [
    "# network_index = np.arange(k_opt) + 1\n",
    "\n",
    "# plt.bar(network_index, global_efficiency_list) \n",
    "# plt.xlabel(\"Representative Networks\")\n",
    "# plt.ylabel(\"Global Efficiency\")\n",
    "# plt.title(\"Global Efficiency of Representative Networks\")\n",
    "# plt.savefig(\"eff_bar\")\n",
    "# plt.show()"
   ]
  },
  {
   "cell_type": "markdown",
   "id": "fb16bb48",
   "metadata": {
    "papermill": {
     "duration": 0.007547,
     "end_time": "2022-07-29T13:51:14.239798",
     "exception": false,
     "start_time": "2022-07-29T13:51:14.232251",
     "status": "completed"
    },
    "tags": []
   },
   "source": [
    "8. (B) Compare graph metrics using bar graphs"
   ]
  },
  {
   "cell_type": "code",
   "execution_count": 19,
   "id": "ef95e44f",
   "metadata": {
    "execution": {
     "iopub.execute_input": "2022-07-29T13:51:14.257773Z",
     "iopub.status.busy": "2022-07-29T13:51:14.257014Z",
     "iopub.status.idle": "2022-07-29T13:51:14.261931Z",
     "shell.execute_reply": "2022-07-29T13:51:14.260853Z"
    },
    "papermill": {
     "duration": 0.016492,
     "end_time": "2022-07-29T13:51:14.264193",
     "exception": false,
     "start_time": "2022-07-29T13:51:14.247701",
     "status": "completed"
    },
    "tags": []
   },
   "outputs": [],
   "source": [
    "# plt.bar(network_index, modularity_list) \n",
    "# plt.xlabel(\"Representative Networks\")\n",
    "# plt.ylabel(\"Modularity\")\n",
    "# plt.title(\"Modularity of Representative Networks\")\n",
    "# plt.savefig(\"modularity_bar\")\n",
    "# plt.show()"
   ]
  },
  {
   "cell_type": "markdown",
   "id": "741b660a",
   "metadata": {
    "papermill": {
     "duration": 0.0076,
     "end_time": "2022-07-29T13:51:14.279445",
     "exception": false,
     "start_time": "2022-07-29T13:51:14.271845",
     "status": "completed"
    },
    "tags": []
   },
   "source": [
    "9. (A) Display Representative networks"
   ]
  },
  {
   "cell_type": "code",
   "execution_count": 20,
   "id": "c4981dbf",
   "metadata": {
    "execution": {
     "iopub.execute_input": "2022-07-29T13:51:14.296981Z",
     "iopub.status.busy": "2022-07-29T13:51:14.296246Z",
     "iopub.status.idle": "2022-07-29T13:51:14.300899Z",
     "shell.execute_reply": "2022-07-29T13:51:14.300187Z"
    },
    "papermill": {
     "duration": 0.015911,
     "end_time": "2022-07-29T13:51:14.302960",
     "exception": false,
     "start_time": "2022-07-29T13:51:14.287049",
     "status": "completed"
    },
    "tags": []
   },
   "outputs": [],
   "source": [
    "# plotCorrelationMatrix(rep_networks[:,:,0], atlas)"
   ]
  },
  {
   "cell_type": "markdown",
   "id": "37c90d29",
   "metadata": {
    "papermill": {
     "duration": 0.007456,
     "end_time": "2022-07-29T13:51:14.318032",
     "exception": false,
     "start_time": "2022-07-29T13:51:14.310576",
     "status": "completed"
    },
    "tags": []
   },
   "source": [
    "9. (B) Display Representative networks"
   ]
  },
  {
   "cell_type": "code",
   "execution_count": 21,
   "id": "28788a7a",
   "metadata": {
    "execution": {
     "iopub.execute_input": "2022-07-29T13:51:14.335851Z",
     "iopub.status.busy": "2022-07-29T13:51:14.335108Z",
     "iopub.status.idle": "2022-07-29T13:51:14.339840Z",
     "shell.execute_reply": "2022-07-29T13:51:14.338882Z"
    },
    "papermill": {
     "duration": 0.016101,
     "end_time": "2022-07-29T13:51:14.341992",
     "exception": false,
     "start_time": "2022-07-29T13:51:14.325891",
     "status": "completed"
    },
    "tags": []
   },
   "outputs": [],
   "source": [
    "# plotCorrelationMatrix(rep_networks[:,:,1], atlas)\n"
   ]
  },
  {
   "cell_type": "markdown",
   "id": "4576d808",
   "metadata": {
    "papermill": {
     "duration": 0.007307,
     "end_time": "2022-07-29T13:51:14.357231",
     "exception": false,
     "start_time": "2022-07-29T13:51:14.349924",
     "status": "completed"
    },
    "tags": []
   },
   "source": [
    "10. Visualise unclustered data using t-SNE"
   ]
  },
  {
   "cell_type": "code",
   "execution_count": 22,
   "id": "2172ae0d",
   "metadata": {
    "execution": {
     "iopub.execute_input": "2022-07-29T13:51:14.374869Z",
     "iopub.status.busy": "2022-07-29T13:51:14.373918Z",
     "iopub.status.idle": "2022-07-29T13:51:14.378957Z",
     "shell.execute_reply": "2022-07-29T13:51:14.378180Z"
    },
    "papermill": {
     "duration": 0.016185,
     "end_time": "2022-07-29T13:51:14.381133",
     "exception": false,
     "start_time": "2022-07-29T13:51:14.364948",
     "status": "completed"
    },
    "tags": []
   },
   "outputs": [],
   "source": [
    "# # visualization with tSNE in two dinemsions\n",
    "# from sklearn.manifold import TSNE\n",
    "\n",
    "# tsne = TSNE(n_components=2, verbose=1, random_state=123)\n",
    "# embed_2D = tsne.fit_transform(vectorized_data)\n",
    "\n",
    "# component_1 = embed_2D[:,0]\n",
    "# component_2 = embed_2D[:,1]\n",
    "\n",
    "\n",
    "# plt.scatter(component_1, component_2)\n",
    "# plt.xlabel('component 1')\n",
    "# plt.ylabel('component 2')\n"
   ]
  },
  {
   "cell_type": "markdown",
   "id": "c2800806",
   "metadata": {
    "papermill": {
     "duration": 0.00745,
     "end_time": "2022-07-29T13:51:14.396497",
     "exception": false,
     "start_time": "2022-07-29T13:51:14.389047",
     "status": "completed"
    },
    "tags": []
   },
   "source": [
    "11. Get composition of clusters based on experimenter labels"
   ]
  },
  {
   "cell_type": "code",
   "execution_count": 23,
   "id": "631e6957",
   "metadata": {
    "execution": {
     "iopub.execute_input": "2022-07-29T13:51:14.414058Z",
     "iopub.status.busy": "2022-07-29T13:51:14.413338Z",
     "iopub.status.idle": "2022-07-29T13:51:14.418174Z",
     "shell.execute_reply": "2022-07-29T13:51:14.417376Z"
    },
    "papermill": {
     "duration": 0.016156,
     "end_time": "2022-07-29T13:51:14.420304",
     "exception": false,
     "start_time": "2022-07-29T13:51:14.404148",
     "status": "completed"
    },
    "tags": []
   },
   "outputs": [],
   "source": [
    "# stim_labels_list = ['happy', 'sad', 'angry', 'neutral']\n",
    "# composition = np.zeros((len(np.unique(cluster_labels)), len(stim_labels_list)))\n",
    "# for i in range(len(cluster_labels)):\n",
    "#     composition[cluster_labels[i], stim_labels_list.index(all_stimulus_labels[i])] += 1\n",
    "    \n",
    "# print(composition)"
   ]
  }
 ],
 "metadata": {
  "kernelspec": {
   "display_name": "Python 3",
   "language": "python",
   "name": "python3"
  },
  "language_info": {
   "codemirror_mode": {
    "name": "ipython",
    "version": 3
   },
   "file_extension": ".py",
   "mimetype": "text/x-python",
   "name": "python",
   "nbconvert_exporter": "python",
   "pygments_lexer": "ipython3",
   "version": "3.7.12"
  },
  "papermill": {
   "default_parameters": {},
   "duration": 13.59495,
   "end_time": "2022-07-29T13:51:15.251838",
   "environment_variables": {},
   "exception": null,
   "input_path": "__notebook__.ipynb",
   "output_path": "__notebook__.ipynb",
   "parameters": {},
   "start_time": "2022-07-29T13:51:01.656888",
   "version": "2.3.4"
  }
 },
 "nbformat": 4,
 "nbformat_minor": 5
}
